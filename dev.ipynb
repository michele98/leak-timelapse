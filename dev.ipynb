{
 "cells": [
  {
   "cell_type": "code",
   "execution_count": 12,
   "metadata": {},
   "outputs": [],
   "source": [
    "import cv2\n",
    "import numpy as np"
   ]
  },
  {
   "cell_type": "code",
   "execution_count": 13,
   "metadata": {},
   "outputs": [],
   "source": [
    "def align_images(image1: np.ndarray, image2: np.ndarray) -> np.ndarray:\n",
    "    \"\"\"\n",
    "    Aligns image2 to image1 using SIFT and homography.\n",
    "\n",
    "    Args:\n",
    "        image1 (np.ndarray): The reference image.\n",
    "        image2 (np.ndarray): The image to be aligned.\n",
    "\n",
    "    Returns:\n",
    "        np.ndarray: The aligned version of image2.\n",
    "    \"\"\"\n",
    "    # Convert images to grayscale\n",
    "    gray1 = cv2.cvtColor(image1, cv2.COLOR_BGR2GRAY)\n",
    "    gray2 = cv2.cvtColor(image2, cv2.COLOR_BGR2GRAY)\n",
    "\n",
    "    # Initialize SIFT detector\n",
    "    sift = cv2.SIFT_create()\n",
    "\n",
    "    # Detect keypoints and descriptors\n",
    "    keypoints1, descriptors1 = sift.detectAndCompute(gray1, None)\n",
    "    keypoints2, descriptors2 = sift.detectAndCompute(gray2, None)\n",
    "\n",
    "    # Match descriptors using FLANN-based matcher\n",
    "    flann = cv2.FlannBasedMatcher(dict(algorithm=1, trees=5), dict(checks=50))\n",
    "    matches = flann.knnMatch(descriptors1, descriptors2, k=2)\n",
    "\n",
    "    # Filter matches using Lowe's ratio test\n",
    "    good_matches = []\n",
    "    for m, n in matches:\n",
    "        if m.distance < 0.7 * n.distance:\n",
    "            good_matches.append(m)\n",
    "\n",
    "    # Extract matched keypoints\n",
    "    points1 = np.float32([keypoints1[m.queryIdx].pt for m in good_matches])\n",
    "    points2 = np.float32([keypoints2[m.trainIdx].pt for m in good_matches])\n",
    "\n",
    "    # Compute homography\n",
    "    homography, _ = cv2.findHomography(points2, points1, cv2.RANSAC)\n",
    "\n",
    "    # Warp image2 to align with image1\n",
    "    height, width, _ = image1.shape\n",
    "    aligned_image2 = cv2.warpPerspective(image2, homography, (width, height))\n",
    "\n",
    "    return aligned_image2"
   ]
  },
  {
   "cell_type": "code",
   "execution_count": 14,
   "metadata": {},
   "outputs": [],
   "source": [
    "image1 = cv2.imread('pictures/20250611_232336.jpg')\n",
    "image2 = cv2.imread('pictures/20250613_110137.jpg')"
   ]
  },
  {
   "cell_type": "code",
   "execution_count": null,
   "metadata": {},
   "outputs": [],
   "source": [
    "image1.shape"
   ]
  },
  {
   "cell_type": "code",
   "execution_count": null,
   "metadata": {},
   "outputs": [],
   "source": [
    "import matplotlib.pyplot as plt\n",
    "plt.imshow(cv2.cvtColor(image1, cv2.COLOR_BGR2RGB))\n",
    "plt.show()"
   ]
  },
  {
   "cell_type": "code",
   "execution_count": null,
   "metadata": {},
   "outputs": [],
   "source": [
    "plt.imshow(cv2.cvtColor(image1[:3000], cv2.COLOR_BGR2RGB))\n",
    "plt.show()"
   ]
  }
 ],
 "metadata": {
  "kernelspec": {
   "display_name": "venv",
   "language": "python",
   "name": "python3"
  },
  "language_info": {
   "codemirror_mode": {
    "name": "ipython",
    "version": 3
   },
   "file_extension": ".py",
   "mimetype": "text/x-python",
   "name": "python",
   "nbconvert_exporter": "python",
   "pygments_lexer": "ipython3",
   "version": "3.12.3"
  }
 },
 "nbformat": 4,
 "nbformat_minor": 2
}
